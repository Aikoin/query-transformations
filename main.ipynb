{
 "cells": [
  {
   "cell_type": "code",
   "execution_count": 1,
   "metadata": {},
   "outputs": [
    {
     "name": "stdout",
     "output_type": "stream",
     "text": [
      "Note: you may need to restart the kernel to use updated packages.\n"
     ]
    }
   ],
   "source": [
    "%pip install --quiet llama-index python-dotenv langchain sentence_transformers unstructured"
   ]
  },
  {
   "cell_type": "code",
   "execution_count": 1,
   "metadata": {},
   "outputs": [],
   "source": [
    "from llama_index import download_loader, ServiceContext, VectorStoreIndex\n",
    "from llama_index.llms import OpenAI\n",
    "import openai\n",
    "from langchain.embeddings.huggingface import HuggingFaceBgeEmbeddings\n",
    "import os"
   ]
  },
  {
   "cell_type": "code",
   "execution_count": 118,
   "metadata": {},
   "outputs": [],
   "source": [
    "os.environ[ \"OPENAI_API_KEY\" ] = \"hello\"\n",
    "openai.api_key = os.environ[ \"OPENAI_API_KEY\" ]\n",
    "os.environ[ \"OPENAI_API_BASE\" ] = \"http://36.140.15.200:8000/v1\"\n",
    "openai.base_url = os.environ[ \"OPENAI_API_BASE\" ]"
   ]
  },
  {
   "cell_type": "code",
   "execution_count": 3,
   "metadata": {},
   "outputs": [
    {
     "name": "stderr",
     "output_type": "stream",
     "text": [
      "[nltk_data] Downloading package punkt to /Users/aikoin/nltk_data...\n",
      "[nltk_data]   Package punkt is already up-to-date!\n",
      "[nltk_data] Downloading package averaged_perceptron_tagger to\n",
      "[nltk_data]     /Users/aikoin/nltk_data...\n",
      "[nltk_data]   Package averaged_perceptron_tagger is already up-to-\n",
      "[nltk_data]       date!\n",
      "[nltk_data] Downloading package punkt to /Users/aikoin/nltk_data...\n",
      "[nltk_data]   Package punkt is already up-to-date!\n",
      "[nltk_data] Downloading package averaged_perceptron_tagger to\n",
      "[nltk_data]     /Users/aikoin/nltk_data...\n",
      "[nltk_data]   Package averaged_perceptron_tagger is already up-to-\n",
      "[nltk_data]       date!\n",
      "[nltk_data] Downloading package punkt to /Users/aikoin/nltk_data...\n",
      "[nltk_data]   Package punkt is already up-to-date!\n",
      "[nltk_data] Downloading package averaged_perceptron_tagger to\n",
      "[nltk_data]     /Users/aikoin/nltk_data...\n",
      "[nltk_data]   Package averaged_perceptron_tagger is already up-to-\n",
      "[nltk_data]       date!\n"
     ]
    }
   ],
   "source": [
    "SimpleDirectoryReader = download_loader(\"SimpleDirectoryReader\")\n",
    "loader = SimpleDirectoryReader(\"/Users/aikoin/Downloads/rag-actor\")\n",
    "documents = loader.load_data()"
   ]
  },
  {
   "cell_type": "code",
   "execution_count": 4,
   "metadata": {},
   "outputs": [
    {
     "data": {
      "text/plain": [
       "'[103]\\n\\n1981年，出演了个人首个影视作品《最美时光》。1983年4月8日，主演的爱情喜剧片《'"
      ]
     },
     "execution_count": 4,
     "metadata": {},
     "output_type": "execute_result"
    }
   ],
   "source": [
    "documents[0].text[250:300]"
   ]
  },
  {
   "cell_type": "code",
   "execution_count": 119,
   "metadata": {},
   "outputs": [],
   "source": [
    "# qianwen = OpenAI(temperature=0, model=\"qianwen\", api_base=\"http://36.140.37.168:8000/v1\")\n",
    "# openchat = OpenAI(temperature=0.5, model=\"openchat\", api_base=\"http://36.140.15.200:8000/v1\")\n",
    "openchat = OpenAI(temperature=0, model=\"openchat\")"
   ]
  },
  {
   "cell_type": "code",
   "execution_count": 6,
   "metadata": {},
   "outputs": [
    {
     "name": "stderr",
     "output_type": "stream",
     "text": [
      "/opt/homebrew/lib/python3.11/site-packages/tqdm/auto.py:21: TqdmWarning: IProgress not found. Please update jupyter and ipywidgets. See https://ipywidgets.readthedocs.io/en/stable/user_install.html\n",
      "  from .autonotebook import tqdm as notebook_tqdm\n"
     ]
    }
   ],
   "source": [
    "embed_model = HuggingFaceBgeEmbeddings(model_name=\"BAAI/bge-large-zh\")"
   ]
  },
  {
   "cell_type": "code",
   "execution_count": 7,
   "metadata": {},
   "outputs": [],
   "source": [
    "service_context_openchat = ServiceContext.from_defaults(llm=openchat, chunk_size = 256, chunk_overlap=0, embed_model=embed_model)\n",
    "index = VectorStoreIndex.from_documents(documents, service_context=service_context_openchat)\n",
    "retriever = index.as_retriever(similarity_top_k=3)"
   ]
  },
  {
   "cell_type": "code",
   "execution_count": 54,
   "metadata": {},
   "outputs": [],
   "source": [
    "# The response from original prompt\n",
    "from llama_index.prompts import PromptTemplate\n",
    "template = (\n",
    "\"我们在下方提供了上下文信息。 \\n\"\n",
    "    \"---------------------\\n\"\n",
    "    \"<已知信息>{context_str}</已知信息>\"\n",
    "    \"\\n---------------------\\n\"\n",
    "    \"根据已知信息，请回答问题：<问题>{query_str}</问题>\\n\"\n",
    "    \"如果无法从中得到答案，请说 “根据已知信息无法回答该问题”\\n\"\n",
    "    \"不允许在答案中添加编造成分，答案请使用中文。\\n\"\n",
    ")\n",
    "qa_template = PromptTemplate(template)"
   ]
  },
  {
   "cell_type": "markdown",
   "metadata": {},
   "source": [
    "### Query 1"
   ]
  },
  {
   "cell_type": "code",
   "execution_count": 10,
   "metadata": {},
   "outputs": [
    {
     "name": "stdout",
     "output_type": "stream",
     "text": [
      "根据已知信息，最美时光的导演是唐·米斯彻。</答案>\n",
      "\n"
     ]
    }
   ],
   "source": [
    "# question = \"尼古拉斯凯奇最早出演的个人影视作品的导演是谁？\"\n",
    "# question = \"尼古拉斯凯奇1981年出演的首个作品的导演是？\"\n",
    "question = \"最美时光的导演是？\"\n",
    "contexts = retriever.retrieve(question)\n",
    "# you can create text prompt (for completion API)\n",
    "context_list = [n.get_content() for n in contexts]\n",
    "prompt = qa_template.format(context_str=\"\\n\\n\".join(context_list), query_str=question)\n",
    "response = openchat.complete(prompt)\n",
    "print(str(response))"
   ]
  },
  {
   "cell_type": "code",
   "execution_count": 12,
   "metadata": {},
   "outputs": [],
   "source": [
    "TOKENIZERS_PARALLELISM=False"
   ]
  },
  {
   "cell_type": "code",
   "execution_count": 11,
   "metadata": {},
   "outputs": [
    {
     "data": {
      "text/plain": [
       "['演员克里斯平•格洛弗与尼古拉斯•凯奇的屏幕初登场。\\n\\n最美时光的演职员 · · · · · · ( 全部 11 )\\n\\n唐·米斯彻 导演\\n\\n克里斯平·格洛弗 演员\\n\\n吉儿·修伦 演员\\n\\n尼古拉斯·凯奇 演员\\n\\nJulie Piekarski 演员\\n\\n杰基·梅森 演员\\n\\n最美时光的图片 · · · · · · ( 图片19 · 添加 )\\n\\n\\n\\n\\n\\n\\n\\n\\n\\n\\n\\n我要写短评\\n\\n最美时光的短评 · · · · · · ( 全部 3 条 )\\n\\n热门 /\\n\\n最新 /\\n\\n好友\\n\\n0 有用 touya 看过',\n",
       " '/ 尼古拉斯·凯奇\\n\\n类型:\\n\\n喜剧 /\\n\\n歌舞\\n\\n制片国家/地区: 美国\\n\\n语言: 英语\\n\\n上映日期:\\n\\n1981\\n\\n片长:\\n\\n48分钟\\n\\nIMDb: tt0082064\\n\\n豆瓣评分\\n\\n引用\\n\\n暂无评分\\n\\n想看\\n\\n看过\\n\\n评价:\\n\\n写短评\\n\\n写影评\\n\\n分享到\\n\\n推荐\\n\\n最美时光的剧情简介 · · · · · ·\\n\\n1981年的青春喜剧片，计划中的一部电视影集的前导片。\\n\\n演员克里斯平•格洛弗与尼古拉斯•凯奇的屏幕初登场。\\n\\n最美时光的演职员 · · · · · · ( 全部 11 )\\n\\n唐·米斯彻 导演\\n\\n克里斯平·格洛弗 演员\\n\\n吉儿·修伦 演员\\n\\n尼古拉斯·凯奇 演员\\n\\nJulie Piekarski 演员\\n\\n杰基·梅森 演员\\n\\n最美时光的图片 · · · · · · ( 图片19 · 添加 )',\n",
       " '最美时光的演职员 · · · · · · ( 全部 11 )\\n\\n唐·米斯彻 导演\\n\\n克里斯平·格洛弗 演员\\n\\n吉儿·修伦 演员\\n\\n尼古拉斯·凯奇 演员\\n\\nJulie Piekarski 演员\\n\\n杰基·梅森 演员\\n\\n最美时光的图片 · · · · · · ( 图片19 · 添加 )\\n\\n\\n\\n\\n\\n\\n\\n\\n\\n\\n\\n我要写短评\\n\\n最美时光的短评 · · · · · · ( 全部 3 条 )\\n\\n热门 /\\n\\n最新 /\\n\\n好友\\n\\n0 有用 touya 看过 2023-06-06 20:53:04']"
      ]
     },
     "execution_count": 11,
     "metadata": {},
     "output_type": "execute_result"
    }
   ],
   "source": [
    "context_list"
   ]
  },
  {
   "cell_type": "markdown",
   "metadata": {},
   "source": [
    "### Query 2"
   ]
  },
  {
   "cell_type": "code",
   "execution_count": 12,
   "metadata": {},
   "outputs": [
    {
     "name": "stdout",
     "output_type": "stream",
     "text": [
      "根据已知信息，尼古拉斯·凯奇的受教育经历如下：他在念中学二年级时，被送去导演叔叔家中住了一年，并在贾斯汀天主教学校上学。他还参加了地方乐队的主唱活动和地方剧团的音乐剧演出《火爆浪子》。他对表演的欲望持续增加，于是特意跑到旧金山的美国传统剧院上表演课。\n",
      "\n",
      "莱昂纳多·迪卡普里奥的受教育经历如下：他在加州大学洛杉矶分校学习了戏剧和电影制作。他还在伦敦的皇家戏剧学院学习了戏剧表演。\n",
      "\n",
      "因此，莱昂纳多·迪卡普里奥的受教育经历更加丰富，包括戏剧和电影制作的学习，以及在伦敦的皇家戏剧学院学习戏剧表演。尼古拉斯·凯奇则在美国传统剧院上表演课，并在贾斯汀天主教学校上学，参加了地方乐队和剧团的活动。\n",
      "\n"
     ]
    }
   ],
   "source": [
    "question = \"请比较尼古拉斯·凯奇和莱昂纳多·迪卡普里奥的受教育经历\"\n",
    "contexts = retriever.retrieve(question)\n",
    "context_list = [n.get_content() for n in contexts]\n",
    "prompt = qa_template.format(context_str=\"\\n\\n\".join(context_list), query_str=question)\n",
    "response = openchat.complete(prompt)\n",
    "print(str(response))"
   ]
  },
  {
   "cell_type": "code",
   "execution_count": 13,
   "metadata": {},
   "outputs": [
    {
     "data": {
      "text/plain": [
       "['尼古拉斯的祖父卡迈因·科波拉，则是作曲家和指挥家，《教父》和《现代启示录》的配乐都出自其手。父亲欧格斯·科波拉是加州州立大学的比较文学教授，偶而也会讲授电影，母亲乔伊沃格尔森则是一名舞蹈家，也擅长编舞。叔叔\\n\\n弗朗西斯·福特·科波拉\\n\\n则是电影《教父》的导演，姑妈\\n\\n塔莉娅·夏尔\\n\\n是《\\n\\n教父\\n\\n》和《\\n\\n洛奇\\n\\n》的女主角\\n\\n[37]\\n\\n感情\\n\\n1990年前后，尼古拉斯·凯奇与模特克里斯蒂娜·富尔顿\\n\\n（Christian',\n",
       " '届奥斯卡金像奖\\n\\n最佳男演员奖\\n\\n[8]\\n\\n第53届美国电影电视金球奖\\n\\n电影类-剧情类最佳男主角奖。\\n\\n1996年6月7日，与\\n\\n肖恩·康纳利\\n\\n艾德·哈里斯\\n\\n合作主演的动作惊悚片《\\n\\n勇闯夺命岛\\n\\n》上映，凯奇饰演了生物武器科学家“史丹利·古斯比”\\n\\n[41]\\n\\n1997年6月6日，与\\n\\n约翰·库萨克\\n\\n约翰·马尔科维奇\\n\\n等一同主演的动',\n",
       " '他不像其它明星学生都是运动高手，开跑车上学，他以大巴士代步，专长是写作和表演，父亲甚至希望把他培养成一名作家\\n\\n[37]\\n\\n在念中学二年级时，他被送去导演叔叔家中住了一年，和叔叔的3个孩子混得很熟。在这段时间他改念贾斯汀天主教学校，并开始约会女孩子，又在当地一个乐队中任主唱，还参加过地方剧团演出音乐剧《火爆浪子》。他对表演的欲望持续增加，于是特意跑到旧金山的美国传统剧院上表演课。']"
      ]
     },
     "execution_count": 13,
     "metadata": {},
     "output_type": "execute_result"
    }
   ],
   "source": [
    "context_list"
   ]
  },
  {
   "cell_type": "markdown",
   "metadata": {},
   "source": [
    "### Multi-Step Query"
   ]
  },
  {
   "cell_type": "code",
   "execution_count": 169,
   "metadata": {},
   "outputs": [],
   "source": [
    "template = (\n",
    "\"原始问题如下：<问题>{query_str}</问题>\\n\"\n",
    "    \"我们提供了一个现有的答案：<原始答案>{existing_answer}</原始答案>\"\n",
    "    \"在需要的时候，我们可以通过下面的上下文来完善现有答案。\"\n",
    "    \"\\n---------------------\\n\"\n",
    "    \"<上下文>{context_msg}</上下文>\\n\"\n",
    "    \"---------------------\\n\"\n",
    "    \"根据新的上下文，完善原始答案。如果上下文没有帮助，请返回原始答案。”\\n\"\n",
    "    \"完善后的答案：\\n\"\n",
    ")\n",
    "refine_template = PromptTemplate(template)"
   ]
  },
  {
   "cell_type": "code",
   "execution_count": 256,
   "metadata": {},
   "outputs": [],
   "source": [
    "template = (\n",
    "    \"原始问题如下：{query_str}\\n\"\n",
    "    # \"我们能从上下文回答其中部分问题。下面提供了上下文信息，以及之前的推理步骤。\\n\"\n",
    "    \"根据给定的上下文和之前的推理，返回一个可以从上下文中回答的问题。\"\n",
    "    \"新问题应当是原始问题拆解出的一个子问题，或与之相同，它不应与原始问题无关。\\n\"\n",
    "    \"如果我们无法从上下文中提取更多信息，提供“无”作为答案。\"\n",
    "    \"下面给出了一些示例：\\n\\n\"\n",
    "    \"问题：谁是郝蕾出演的第一部电视剧的主创？\\n\"\n",
    "    \"上下文: 提供了郝蕾的演艺经历\\n\"\n",
    "    \"之前的推理：无\\n\"\n",
    "    \"新问题：郝蕾出演的第一部电视剧是什么？\\n\"\n",
    "    \"---------------------\\n\"\n",
    "    \"问题：郝蕾出演的第一部电视剧是什么？\\n\"\n",
    "    \"上下文：提供了郝蕾的演艺经历\\n\"\n",
    "    \"之前的推理：无\\n\"\n",
    "    \"新问题：郝蕾出演的第一部电视剧是什么？\\n\"\n",
    "    \"---------------------\\n\"\n",
    "    \"问题：谁是郝蕾出演的第一部电视剧的主创？\\n\"\n",
    "    \"知识源上下文：提供了郝蕾出演的电视剧信息\\n\"\n",
    "    \"之前的推理：\\n-郝蕾出演的第一部电视剧是什么？\\n- 郝蕾出演的第一部电视剧是《十七岁不哭》。\\n\"\n",
    "    \"新问题：《十七岁不哭》的主创人员是谁？\\n\\n\"\n",
    "    \"新问题：无\\n\\n\"\n",
    "    \"---------------------\\n\"\n",
    "    \"问题：谁执导了郝蕾出演的第一部电视剧？\\n\"\n",
    "    \"知识源上下文：提供了郝蕾出演的电视剧信息，包括电视剧的主创信息\\n\"\n",
    "    \"之前的推理：\\n- 郝蕾出演的第一部电视剧是什么？\\n- 郝蕾出演的第一部电视剧是《十七岁不哭》。\\n\"\n",
    "    \"新问题：《十七岁不哭》的导演是谁？ \\n\\n\"\n",
    "    \"---------------------\\n\"\n",
    "    \"问题： {query_str}\\n知识源上下文： {context_str}\\n之前的推理：{prev_reasoning}\\n新问题：\"\n",
    ")\n",
    "de_template = PromptTemplate(\n",
    "    template\n",
    ")"
   ]
  },
  {
   "cell_type": "code",
   "execution_count": 257,
   "metadata": {},
   "outputs": [],
   "source": [
    "from llama_index.indices.query.query_transform.base import (\n",
    "    StepDecomposeQueryTransform,\n",
    ")\n",
    "\n",
    "# qianwen分解问题\n",
    "# openchat好像聪明点\n",
    "step_decompose_transform_openchat = StepDecomposeQueryTransform(\n",
    "    llm=openchat,\n",
    "    step_decompose_query_prompt=de_template,\n",
    "    verbose=True\n",
    ")\n",
    "index_summary = \"Breaks down the initial query\""
   ]
  },
  {
   "cell_type": "code",
   "execution_count": 258,
   "metadata": {},
   "outputs": [],
   "source": [
    "import logging\n",
    "from llama_index.query_engine.multistep_query_engine import (\n",
    "    MultiStepQueryEngine,\n",
    ")\n",
    "from llama_index import get_response_synthesizer\n",
    "\n",
    "# Set logging level to WARNING to suppress INFO and DEBUG messages\n",
    "logging.basicConfig(level=logging.WARNING)\n",
    "logging.getLogger(\"httpx\").setLevel(logging.WARNING)\n",
    "\n",
    "# openchat回答问题\n",
    "query_engine = index.as_query_engine(service_context=service_context_openchat)\n",
    "\n",
    "response_synthesizer = get_response_synthesizer(\n",
    "    service_context=service_context_openchat,\n",
    "    response_mode=\"refine\",\n",
    "    refine_template=refine_template,\n",
    "    text_qa_template = qa_template,\n",
    "    # verbose=True,\n",
    ")\n",
    "\n",
    "multi_step_query_engine = MultiStepQueryEngine(\n",
    "    query_engine=query_engine,\n",
    "    query_transform=step_decompose_transform_openchat,\n",
    "    response_synthesizer=response_synthesizer,\n",
    "    index_summary=index_summary,\n",
    "    num_steps=2\n",
    ")"
   ]
  },
  {
   "cell_type": "markdown",
   "metadata": {},
   "source": [
    "### Query 1"
   ]
  },
  {
   "cell_type": "code",
   "execution_count": null,
   "metadata": {},
   "outputs": [],
   "source": [
    "response = multi_step_query_engine.query(\n",
    "    \"谁执导了尼古拉斯凯奇1981年出演的首个作品？\",\n",
    ")\n",
    "print(str(response))\n",
    "sub_qa_q1 = response.metadata[\"sub_qa\"]\n",
    "tuples = [(t[0], t[1].response) for t in sub_qa_q1]\n",
    "print(tuples)"
   ]
  },
  {
   "cell_type": "code",
   "execution_count": 107,
   "metadata": {},
   "outputs": [
    {
     "data": {
      "text/plain": [
       "[('尼古拉斯凯奇1981年出演的首个作品是什么？\\n',\n",
       "  Response(response='尼古拉斯凯奇1981年出演的首个作品是《最美时光》。\\n\\nThis is based on the context provided. The context mentions that Nicholas Cage\\'s first film appearance was in 1981 in the movie \"最美时光\".', source_nodes=[NodeWithScore(node=TextNode(id_='8eeec904-b368-47c9-a7e0-61b2ff6698e9', embedding=None, metadata={'filename': '/Users/aikoin/Downloads/rag-actor/尼古拉斯·凯奇_百度百科.html'}, excluded_embed_metadata_keys=[], excluded_llm_metadata_keys=[], relationships={<NodeRelationship.SOURCE: '1'>: RelatedNodeInfo(node_id='0c1bc1ff-adbc-47f4-9e62-66e20cac506b', node_type=<ObjectType.DOCUMENT: '4'>, metadata={'filename': '/Users/aikoin/Downloads/rag-actor/尼古拉斯·凯奇_百度百科.html'}, hash='d64a746fedccaf20f248cc1e7ad8b6accda4da0e9ed03dea2e3669fa4680e05c'), <NodeRelationship.PREVIOUS: '2'>: RelatedNodeInfo(node_id='ef1c7c18-ca11-4bd6-83d7-251fc81058f3', node_type=<ObjectType.TEXT: '1'>, metadata={'filename': '/Users/aikoin/Downloads/rag-actor/尼古拉斯·凯奇_百度百科.html'}, hash='d9d844ae456fc2bda78b2bab04e9a2516ff268b2f6965d6356ce29bf2b45a617'), <NodeRelationship.NEXT: '3'>: RelatedNodeInfo(node_id='3f2b157c-aa1e-4c44-8226-239cf9781e10', node_type=<ObjectType.TEXT: '1'>, metadata={}, hash='cc27c8d5f0ca55a8f28223df80d5b37ea5766977462169afa649644d261291b1')}, text='[103]\\n\\n1981年，出演了个人首个影视作品《最美时光》。1983年4月8日，主演的爱情喜剧片《\\n\\n山谷女郎\\n\\n》上映，这是其首次担任主演\\n\\n[2]\\n\\n。1987年12月16日，主演的爱情喜剧片《\\n\\n月色撩人\\n\\n》上映，凭借该片获得了\\n\\n第45届美国电影电视金球奖\\n\\n电影类-音乐喜剧类最佳男主角提名\\n\\n[37]\\n\\n。', start_char_idx=250, end_char_idx=411, text_template='{metadata_str}\\n\\n{content}', metadata_template='{key}: {value}', metadata_seperator='\\n'), score=0.5951092371231997), NodeWithScore(node=TextNode(id_='427c404c-e461-4062-a43c-4cad7f7b13a1', embedding=None, metadata={'filename': '/Users/aikoin/Downloads/rag-actor/尼古拉斯·凯奇_百度百科.html'}, excluded_embed_metadata_keys=[], excluded_llm_metadata_keys=[], relationships={<NodeRelationship.SOURCE: '1'>: RelatedNodeInfo(node_id='0c1bc1ff-adbc-47f4-9e62-66e20cac506b', node_type=<ObjectType.DOCUMENT: '4'>, metadata={'filename': '/Users/aikoin/Downloads/rag-actor/尼古拉斯·凯奇_百度百科.html'}, hash='d64a746fedccaf20f248cc1e7ad8b6accda4da0e9ed03dea2e3669fa4680e05c'), <NodeRelationship.PREVIOUS: '2'>: RelatedNodeInfo(node_id='1b639b1c-4416-49c5-8085-be7a03fc9672', node_type=<ObjectType.TEXT: '1'>, metadata={'filename': '/Users/aikoin/Downloads/rag-actor/尼古拉斯·凯奇_百度百科.html'}, hash='5f8776e332ac36725ce8220f58a0a2d874763cbd48ca6dda47744a6778b05a7f'), <NodeRelationship.NEXT: '3'>: RelatedNodeInfo(node_id='d55233fe-c003-4a4c-842d-dfa3c114b005', node_type=<ObjectType.TEXT: '1'>, metadata={}, hash='a97cf6ee1c909b8994884ae9c080a059f4b494ea423ee8c21c5175a21b51936e')}, text='与理查·基尔、戴安·琳恩等合作出演的犯罪电影《\\n\\n棉花俱乐部\\n\\n》上映\\n\\n[39]\\n\\n；12月21日，与\\n\\n马修·摩丁\\n\\n领衔主演的战争类剧情片《\\n\\n鸟人\\n\\n》上映，他在片中饰演试图帮助“鸟人”恢复正常的“艾尔”\\n\\n[3]\\n\\n1986年1月17日，领衔主演的传记电影《\\n\\n忧郁男孩\\n\\n》上映，他在片中饰演在国际比赛中获得冠军的船工“奈德·汉', start_char_idx=2504, end_char_idx=2674, text_template='{metadata_str}\\n\\n{content}', metadata_template='{key}: {value}', metadata_seperator='\\n'), score=0.5904570733848917)], metadata={'8eeec904-b368-47c9-a7e0-61b2ff6698e9': {'filename': '/Users/aikoin/Downloads/rag-actor/尼古拉斯·凯奇_百度百科.html'}, '427c404c-e461-4062-a43c-4cad7f7b13a1': {'filename': '/Users/aikoin/Downloads/rag-actor/尼古拉斯·凯奇_百度百科.html'}})),\n",
       " ('谁执导了尼古拉斯凯奇1981年出演的首个作品？\\n知识源上下文： 用于回答问题\\n之前的推理：\\n- 尼古拉斯凯奇1981年出演的首个作品是什么？\\n- 尼古拉斯凯奇1981年出演的首个作品是《最美时光》。\\n\\n新问题：谁执导了《最美时光》？\\n这是基于上下文。这个问题是原始问题拆解出的一个子问题。\\n',\n",
       "  Response(response='唐·米斯彻执导了尼古拉斯凯奇1981年出演的首个作品《最美时光》。', source_nodes=[NodeWithScore(node=TextNode(id_='e5fcb4dd-951f-4019-8c38-ac1b17f26ee8', embedding=None, metadata={'filename': '/Users/aikoin/Downloads/rag-actor/最美时光 (豆瓣).html'}, excluded_embed_metadata_keys=[], excluded_llm_metadata_keys=[], relationships={<NodeRelationship.SOURCE: '1'>: RelatedNodeInfo(node_id='7031f3bb-51b2-4ed3-b274-cfd34b5360b4', node_type=<ObjectType.DOCUMENT: '4'>, metadata={'filename': '/Users/aikoin/Downloads/rag-actor/最美时光 (豆瓣).html'}, hash='17880b7151afd6df8ad81096146a0a26631d296f2c95d23e81f4a172f20da30a'), <NodeRelationship.PREVIOUS: '2'>: RelatedNodeInfo(node_id='1230a8d3-488d-456f-9f2c-6354bd4983cf', node_type=<ObjectType.TEXT: '1'>, metadata={'filename': '/Users/aikoin/Downloads/rag-actor/最美时光 (豆瓣).html'}, hash='f75022dda78c4d94dae371034c00bb2c0ac0e78942497761f209b821f35960d3'), <NodeRelationship.NEXT: '3'>: RelatedNodeInfo(node_id='bc351124-1f29-4686-9368-5ec921d5c9c4', node_type=<ObjectType.TEXT: '1'>, metadata={}, hash='155b21fbeca42dbb4e9c589381e6bc4d9423af05d43ba9c532822cda3f628ef2')}, text='/ 尼古拉斯·凯奇\\n\\n类型:\\n\\n喜剧 /\\n\\n歌舞\\n\\n制片国家/地区: 美国\\n\\n语言: 英语\\n\\n上映日期:\\n\\n1981\\n\\n片长:\\n\\n48分钟\\n\\nIMDb: tt0082064\\n\\n豆瓣评分\\n\\n引用\\n\\n暂无评分\\n\\n想看\\n\\n看过\\n\\n评价:\\n\\n写短评\\n\\n写影评\\n\\n分享到\\n\\n推荐\\n\\n最美时光的剧情简介 · · · · · ·\\n\\n1981年的青春喜剧片，计划中的一部电视影集的前导片。\\n\\n演员克里斯平•格洛弗与尼古拉斯•凯奇的屏幕初登场。\\n\\n最美时光的演职员 · · · · · · ( 全部 11 )\\n\\n唐·米斯彻 导演\\n\\n克里斯平·格洛弗 演员\\n\\n吉儿·修伦 演员\\n\\n尼古拉斯·凯奇 演员\\n\\nJulie Piekarski 演员\\n\\n杰基·梅森 演员\\n\\n最美时光的图片 · · · · · · ( 图片19 · 添加 )', start_char_idx=231, end_char_idx=586, text_template='{metadata_str}\\n\\n{content}', metadata_template='{key}: {value}', metadata_seperator='\\n'), score=0.8353374009356392), NodeWithScore(node=TextNode(id_='8eeec904-b368-47c9-a7e0-61b2ff6698e9', embedding=None, metadata={'filename': '/Users/aikoin/Downloads/rag-actor/尼古拉斯·凯奇_百度百科.html'}, excluded_embed_metadata_keys=[], excluded_llm_metadata_keys=[], relationships={<NodeRelationship.SOURCE: '1'>: RelatedNodeInfo(node_id='0c1bc1ff-adbc-47f4-9e62-66e20cac506b', node_type=<ObjectType.DOCUMENT: '4'>, metadata={'filename': '/Users/aikoin/Downloads/rag-actor/尼古拉斯·凯奇_百度百科.html'}, hash='d64a746fedccaf20f248cc1e7ad8b6accda4da0e9ed03dea2e3669fa4680e05c'), <NodeRelationship.PREVIOUS: '2'>: RelatedNodeInfo(node_id='ef1c7c18-ca11-4bd6-83d7-251fc81058f3', node_type=<ObjectType.TEXT: '1'>, metadata={'filename': '/Users/aikoin/Downloads/rag-actor/尼古拉斯·凯奇_百度百科.html'}, hash='d9d844ae456fc2bda78b2bab04e9a2516ff268b2f6965d6356ce29bf2b45a617'), <NodeRelationship.NEXT: '3'>: RelatedNodeInfo(node_id='3f2b157c-aa1e-4c44-8226-239cf9781e10', node_type=<ObjectType.TEXT: '1'>, metadata={}, hash='cc27c8d5f0ca55a8f28223df80d5b37ea5766977462169afa649644d261291b1')}, text='[103]\\n\\n1981年，出演了个人首个影视作品《最美时光》。1983年4月8日，主演的爱情喜剧片《\\n\\n山谷女郎\\n\\n》上映，这是其首次担任主演\\n\\n[2]\\n\\n。1987年12月16日，主演的爱情喜剧片《\\n\\n月色撩人\\n\\n》上映，凭借该片获得了\\n\\n第45届美国电影电视金球奖\\n\\n电影类-音乐喜剧类最佳男主角提名\\n\\n[37]\\n\\n。', start_char_idx=250, end_char_idx=411, text_template='{metadata_str}\\n\\n{content}', metadata_template='{key}: {value}', metadata_seperator='\\n'), score=0.8284160115506122)], metadata={'e5fcb4dd-951f-4019-8c38-ac1b17f26ee8': {'filename': '/Users/aikoin/Downloads/rag-actor/最美时光 (豆瓣).html'}, '8eeec904-b368-47c9-a7e0-61b2ff6698e9': {'filename': '/Users/aikoin/Downloads/rag-actor/尼古拉斯·凯奇_百度百科.html'}}))]"
      ]
     },
     "execution_count": 107,
     "metadata": {},
     "output_type": "execute_result"
    }
   ],
   "source": [
    "sub_qa_q1"
   ]
  },
  {
   "cell_type": "markdown",
   "metadata": {},
   "source": [
    "### Query 2"
   ]
  },
  {
   "cell_type": "code",
   "execution_count": null,
   "metadata": {},
   "outputs": [],
   "source": [
    "response = multi_step_query_engine.query(\n",
    "    \"请比较尼古拉斯·凯奇和莱昂纳多·迪卡普里奥的受教育经历\",\n",
    ")\n",
    "print(str(response))\n",
    "sub_qa = response.metadata[\"sub_qa\"]\n",
    "tuples = [(t[0], t[1].response) for t in sub_qa]\n",
    "print(tuples)"
   ]
  },
  {
   "cell_type": "code",
   "execution_count": 116,
   "metadata": {},
   "outputs": [
    {
     "data": {
      "text/plain": [
       "('尼古拉斯·凯奇和莱昂纳多·迪卡普里奥的受教育经历各有不同。凯奇更多地关注于电影和音乐领域，而迪卡普里奥则在电影、音乐和电视剧领域发挥着作用。然而，具体的受教育经历并未在提供的文章中详细描述。\\n',\n",
       " Response(response='尼古拉斯·凯奇和莱昂纳多·迪卡普里奥的受教育经历各有不同。凯奇更多地关注于电影和音乐领域，而迪卡普里奥则在电影、音乐和电视剧领域发挥着作用。然而，具体的受教育经历并未在提供的文章中详细描述。\\n', source_nodes=[NodeWithScore(node=TextNode(id_='f692eb1d-c21e-4532-a0fe-1b21432999f1', embedding=None, metadata={'filename': '/Users/aikoin/Downloads/rag-actor/尼古拉斯·凯奇_百度百科.html'}, excluded_embed_metadata_keys=[], excluded_llm_metadata_keys=[], relationships={<NodeRelationship.SOURCE: '1'>: RelatedNodeInfo(node_id='0c1bc1ff-adbc-47f4-9e62-66e20cac506b', node_type=<ObjectType.DOCUMENT: '4'>, metadata={'filename': '/Users/aikoin/Downloads/rag-actor/尼古拉斯·凯奇_百度百科.html'}, hash='d64a746fedccaf20f248cc1e7ad8b6accda4da0e9ed03dea2e3669fa4680e05c'), <NodeRelationship.PREVIOUS: '2'>: RelatedNodeInfo(node_id='9502e573-7006-429c-8f24-00c6aab5db5b', node_type=<ObjectType.TEXT: '1'>, metadata={'filename': '/Users/aikoin/Downloads/rag-actor/尼古拉斯·凯奇_百度百科.html'}, hash='92c262d750c8cf3b29d445f7547ae7be0b50e36b12d940520e4c946a0d5cc78d'), <NodeRelationship.NEXT: '3'>: RelatedNodeInfo(node_id='736f84f8-016d-459e-b52e-62bcbeefe08e', node_type=<ObjectType.TEXT: '1'>, metadata={}, hash='8a4b546e62183511670f380efab316398910e5e2c10d71fe2fb83f0b3029362d')}, text='[117]\\n\\n个人生活\\n\\n播报\\n\\n编辑\\n\\n家族\\n\\n尼古拉斯的曾祖父在1920年代就从意大利进口影片到美国放映给意裔移民观看，是戏院业的老前辈，连“派拉蒙电影公司”的名字都是取自曾祖父的“派拉蒙音乐公司”。尼古拉斯的祖父卡迈因·科波拉，则是作曲家和指挥家，《教父》和《现代启示录》的配乐都出自其手。父亲欧格斯·科波拉是加州州立大学的比较文学教授，偶而也会讲授电影，母亲乔伊沃格尔森则是一名舞蹈家，也擅长编舞。', start_char_idx=8878, end_char_idx=9081, text_template='{metadata_str}\\n\\n{content}', metadata_template='{key}: {value}', metadata_seperator='\\n'), score=0.7759037802995136), NodeWithScore(node=TextNode(id_='736f84f8-016d-459e-b52e-62bcbeefe08e', embedding=None, metadata={'filename': '/Users/aikoin/Downloads/rag-actor/尼古拉斯·凯奇_百度百科.html'}, excluded_embed_metadata_keys=[], excluded_llm_metadata_keys=[], relationships={<NodeRelationship.SOURCE: '1'>: RelatedNodeInfo(node_id='0c1bc1ff-adbc-47f4-9e62-66e20cac506b', node_type=<ObjectType.DOCUMENT: '4'>, metadata={'filename': '/Users/aikoin/Downloads/rag-actor/尼古拉斯·凯奇_百度百科.html'}, hash='d64a746fedccaf20f248cc1e7ad8b6accda4da0e9ed03dea2e3669fa4680e05c'), <NodeRelationship.PREVIOUS: '2'>: RelatedNodeInfo(node_id='f692eb1d-c21e-4532-a0fe-1b21432999f1', node_type=<ObjectType.TEXT: '1'>, metadata={'filename': '/Users/aikoin/Downloads/rag-actor/尼古拉斯·凯奇_百度百科.html'}, hash='7dfe020e2c67051c4f80797f7b5c9b759378ad0222e5ee7a287421fe3d29bdce'), <NodeRelationship.NEXT: '3'>: RelatedNodeInfo(node_id='95113ca0-4b1d-47db-a2f9-af7f108510bb', node_type=<ObjectType.TEXT: '1'>, metadata={}, hash='bc1202eaa954ab51ad0050000b49f3ac6f661b30e1821c88b0d686461e24903a')}, text='尼古拉斯的祖父卡迈因·科波拉，则是作曲家和指挥家，《教父》和《现代启示录》的配乐都出自其手。父亲欧格斯·科波拉是加州州立大学的比较文学教授，偶而也会讲授电影，母亲乔伊沃格尔森则是一名舞蹈家，也擅长编舞。叔叔\\n\\n弗朗西斯·福特·科波拉\\n\\n则是电影《教父》的导演，姑妈\\n\\n塔莉娅·夏尔\\n\\n是《\\n\\n教父\\n\\n》和《\\n\\n洛奇\\n\\n》的女主角\\n\\n[37]\\n\\n感情\\n\\n1990年前后，尼古拉斯·凯奇与模特克里斯蒂娜·富尔顿\\n\\n（Christian', start_char_idx=8980, end_char_idx=9195, text_template='{metadata_str}\\n\\n{content}', metadata_template='{key}: {value}', metadata_seperator='\\n'), score=0.7698953683439984)], metadata={'f692eb1d-c21e-4532-a0fe-1b21432999f1': {'filename': '/Users/aikoin/Downloads/rag-actor/尼古拉斯·凯奇_百度百科.html'}, '736f84f8-016d-459e-b52e-62bcbeefe08e': {'filename': '/Users/aikoin/Downloads/rag-actor/尼古拉斯·凯奇_百度百科.html'}}))"
      ]
     },
     "execution_count": 116,
     "metadata": {},
     "output_type": "execute_result"
    }
   ],
   "source": [
    "sub_qa[1]"
   ]
  },
  {
   "cell_type": "markdown",
   "metadata": {},
   "source": [
    "### Sub Question Query Engine"
   ]
  },
  {
   "cell_type": "code",
   "execution_count": null,
   "metadata": {},
   "outputs": [],
   "source": [
    "from llama_index import VectorStoreIndex\n",
    "from llama_index.tools import QueryEngineTool, ToolMetadata\n",
    "from llama_index.query_engine import SubQuestionQueryEngine\n",
    "from llama_index.callbacks import CallbackManager, LlamaDebugHandler\n",
    "from llama_index import ServiceContext\n",
    "\n",
    "llama_debug = LlamaDebugHandler(print_trace_on_end=True)\n",
    "callback_manager = CallbackManager([llama_debug])\n",
    "service_context = ServiceContext.from_defaults(\n",
    "    llm=openchat,callback_manager=callback_manager,chunk_size=256, chunk_overlap=0,embed_model=embed_model\n",
    ")\n",
    "# build index and query engine\n",
    "vector_query_engine = VectorStoreIndex.from_documents(\n",
    "    documents, use_async=False, service_context=service_context\n",
    ").as_query_engine(similarity_top_k=5)"
   ]
  },
  {
   "cell_type": "code",
   "execution_count": 261,
   "metadata": {},
   "outputs": [],
   "source": [
    "template='给定一个用户问题和一个工具列表，用json输出一组相关的子问题，这些子问题在组合后可以帮助回答完整的用户问题：\\n\\n# Example 1\\n<Tools>\\n```json\\n{{\\n    \"uber_10k\": \"提供了2021年Uber财务数据的信息\",\\n    \"lyft_10k\": \"提供了2021年Lyft财务数据的信息\"\\n}}\\n```\\n\\n<User Question>\\n比较并对比2021年Uber和Lyft的营收增长和EBITDA\\n\\n\\n<Output>\\n```json\\n{{\\n    \"items\": [\\n        {{\\n            \"sub_question\": \"Uber的营收增长是多少\",\\n            \"tool_name\": \"uber_10k\"\\n        }},\\n        {{\\n            \"sub_question\": \"Uber的EBITDA是多少\",\\n            \"tool_name\": \"uber_10k\"\\n        }},\\n        {{\\n            \"sub_question\": \"Lyft的营收增长是多少\",\\n            \"tool_name\": \"lyft_10k\"\\n        }},\\n        {{\\n            \"sub_question\": \"Lyft的EBITDA是多少\",\\n            \"tool_name\": \"lyft_10k\"\\n        }}\\n    ]\\n}}\\n```\\n\\n# Example 2\\n<Tools>\\n```json\\n{tools_str}\\n```\\n\\n<User Question>\\n{query_str}\\n\\n<Output>\\n'"
   ]
  },
  {
   "cell_type": "code",
   "execution_count": 262,
   "metadata": {},
   "outputs": [],
   "source": [
    "from llama_index.question_gen import (\n",
    "    LLMQuestionGenerator,\n",
    ")\n",
    "\n",
    "# setup base query engine as tool\n",
    "query_engine_tools = [\n",
    "    QueryEngineTool(\n",
    "        query_engine=vector_query_engine,\n",
    "        metadata=ToolMetadata(\n",
    "            name=\"Sub-question query engine\",\n",
    "            description=\"关于演员的问题\",\n",
    "        ),\n",
    "    ),\n",
    "]\n",
    "\n",
    "question_gen = LLMQuestionGenerator.from_defaults(service_context=service_context,prompt_template_str=template)\n",
    "\n",
    "response_synthesizer = get_response_synthesizer(\n",
    "    service_context=service_context,\n",
    "    # text_qa_template = qa_template,\n",
    "    # verbose=True,\n",
    ")\n",
    "\n",
    "query_engine_sub_question = SubQuestionQueryEngine.from_defaults(\n",
    "    query_engine_tools=query_engine_tools,\n",
    "    question_gen=question_gen,\n",
    "    response_synthesizer=response_synthesizer,\n",
    "    service_context=service_context,\n",
    "    use_async= False\n",
    ")"
   ]
  },
  {
   "cell_type": "markdown",
   "metadata": {},
   "source": [
    "### Query 1"
   ]
  },
  {
   "cell_type": "code",
   "execution_count": 263,
   "metadata": {},
   "outputs": [
    {
     "name": "stdout",
     "output_type": "stream",
     "text": [
      "Generated 2 sub questions.\n",
      "\u001b[1;3;38;2;237;90;200m[Sub-question query engine] Q: 尼古拉斯凯奇1981年出演的作品是哪些\n",
      "\u001b[0m\u001b[1;3;38;2;237;90;200m[Sub-question query engine] A: 根据提供的上下文信息，尼古拉斯·凯奇1981年出演了个人首个影视作品《最美时光》。\n",
      "\u001b[0m\u001b[1;3;38;2;90;149;237m[Sub-question query engine] Q: 尼古拉斯凯奇1981年作品的导演是谁\n",
      "\u001b[0m\u001b[1;3;38;2;90;149;237m[Sub-question query engine] A: 尼古拉斯凯奇1981年作品《最美时光》的导演是弗朗西斯·福特·科波拉。\n",
      "\n",
      "\u001b[0m**********\n",
      "Trace: query\n",
      "    |_CBEventType.QUERY ->  70.026354 seconds\n",
      "      |_CBEventType.TEMPLATING ->  3.3e-05 seconds\n",
      "      |_CBEventType.LLM ->  32.117073 seconds\n",
      "      |_CBEventType.SUB_QUESTION ->  13.812964 seconds\n",
      "      |_CBEventType.SUB_QUESTION ->  12.580081 seconds\n",
      "      |_CBEventType.SYNTHESIZE ->  11.509246 seconds\n",
      "        |_CBEventType.TEMPLATING ->  0.000453 seconds\n",
      "        |_CBEventType.LLM ->  11.501684 seconds\n",
      "**********\n",
      "尼古拉斯凯奇1981年出演的首个作品的导演是弗朗西斯·福特·科波拉。\n",
      "Sub Question 0: 尼古拉斯凯奇1981年出演的作品是哪些\n",
      "Answer: 根据提供的上下文信息，尼古拉斯·凯奇1981年出演了个人首个影视作品《最美时光》。\n",
      "====================================\n",
      "Sub Question 1: 尼古拉斯凯奇1981年出演的作品的导演是谁\n",
      "Answer: 根据提供的上下文信息，1981年，尼古拉斯凯奇出演的个人首个影视作品《最美时光》的导演是未知的，因为这部作品在上下文中没有提及。\n",
      "====================================\n",
      "Sub Question 2: 尼古拉斯·凯奇的学历是什么\n",
      "Answer: 根据提供的上下文信息，我无法获取尼古拉斯·凯奇的学历信息。请提供更多关于他的学历背景的信息。\n",
      "====================================\n",
      "Sub Question 3: 莱昂纳多·迪卡普里奥的学历是什么\n",
      "Answer: 根据提供的上下文信息，我们无法获取关于莱昂纳多·迪卡普里奥的学历。\n",
      "====================================\n",
      "Sub Question 4: 尼古拉斯·凯奇的学校是哪些\n",
      "Answer: 根据提供的上下文信息，我们无法确定尼古拉斯·凯奇的学校是哪些。上下文中没有提及这方面的信息。请提供更多关于尼古拉斯·凯奇的学校背景的信息。\n",
      "====================================\n",
      "Sub Question 5: 莱昂纳多·迪卡普里奥的学校是哪些\n",
      "Answer: 莱昂纳多·迪卡普里奥在美国加利福尼亚州洛杉矶出生，他在年轻时就开始参加演出活动。虽然具体的学校信息在上述文章中没有提及，但我们可以推测他可能是在洛杉矶地区接受教育的。在美国，学生通常在邻近的公立学校就近接受教育，所以他可能是在洛杉矶地区的一所公立学校学习的。\n",
      "====================================\n",
      "Sub Question 6: 尼古拉斯凯奇1981年出演的作品是哪些\n",
      "Answer: 根据提供的上下文信息，尼古拉斯·凯奇1981年出演了个人首个影视作品《最美时光》。\n",
      "====================================\n",
      "Sub Question 7: 尼古拉斯凯奇1981年作品的导演是谁\n",
      "Answer: 尼古拉斯凯奇1981年作品《最美时光》的导演是弗朗西斯·福特·科波拉。\n",
      "====================================\n"
     ]
    }
   ],
   "source": [
    "response = query_engine_sub_question.query(\n",
    "    \"尼古拉斯凯奇1981年出演的首个作品的导演是谁？\"\n",
    ")\n",
    "print(response)\n",
    "\n",
    "\n",
    "# iterate through sub_question items captured in SUB_QUESTION event\n",
    "from llama_index.callbacks.schema import CBEventType, EventPayload\n",
    "\n",
    "for i, (start_event, end_event) in enumerate(\n",
    "    llama_debug.get_event_pairs(CBEventType.SUB_QUESTION)\n",
    "):\n",
    "    qa_pair = end_event.payload[EventPayload.SUB_QUESTION]\n",
    "    print(\"Sub Question \" + str(i) + \": \" + qa_pair.sub_q.sub_question.strip())\n",
    "    print(\"Answer: \" + qa_pair.answer.strip())\n",
    "    print(\"====================================\")"
   ]
  },
  {
   "cell_type": "markdown",
   "metadata": {},
   "source": [
    "### Query 2"
   ]
  },
  {
   "cell_type": "code",
   "execution_count": 264,
   "metadata": {},
   "outputs": [
    {
     "name": "stdout",
     "output_type": "stream",
     "text": [
      "Generated 2 sub questions.\n",
      "\u001b[1;3;38;2;237;90;200m[Sub-question query engine] Q: 尼古拉斯·凯奇的教育经历是什么\n",
      "\u001b[0m\u001b[1;3;38;2;237;90;200m[Sub-question query engine] A: 根据提供的上下文信息，我们无法获取关于尼古拉斯·凯奇的教育经历的详细信息。\n",
      "\u001b[0m\u001b[1;3;38;2;90;149;237m[Sub-question query engine] Q: 莱昂纳多·迪卡普里奥的教育经历是什么\n",
      "\u001b[0m\u001b[1;3;38;2;90;149;237m[Sub-question query engine] A: 根据提供的上下文信息，我们无法获取关于莱昂纳多·迪卡普里奥的教育经历。上下文中主要介绍了他的家庭背景、父母的职业以及他在电影中的角色。\n",
      "\u001b[0m**********\n",
      "Trace: query\n",
      "    |_CBEventType.QUERY ->  91.288895 seconds\n",
      "      |_CBEventType.TEMPLATING ->  4e-05 seconds\n",
      "      |_CBEventType.LLM ->  32.174604 seconds\n",
      "      |_CBEventType.SUB_QUESTION ->  12.104921 seconds\n",
      "      |_CBEventType.SUB_QUESTION ->  20.914855 seconds\n",
      "      |_CBEventType.SYNTHESIZE ->  26.088719 seconds\n",
      "        |_CBEventType.TEMPLATING ->  2e-05 seconds\n",
      "        |_CBEventType.LLM ->  26.083067 seconds\n",
      "**********\n",
      "根据提供的上下文信息，我们无法获取关于尼古拉斯·凯奇和莱昂纳多·迪卡普里奥的教育经历的详细信息。因此，我们无法进行比较。请提供更多关于他们的教育背景，以便我们进行比较。\n",
      "\n",
      "Sub Question 0: 尼古拉斯凯奇1981年出演的作品是哪些\n",
      "Answer: 根据提供的上下文信息，尼古拉斯·凯奇1981年出演了个人首个影视作品《最美时光》。\n",
      "====================================\n",
      "Sub Question 1: 尼古拉斯凯奇1981年出演的作品的导演是谁\n",
      "Answer: 根据提供的上下文信息，1981年，尼古拉斯凯奇出演的个人首个影视作品《最美时光》的导演是未知的，因为这部作品在上下文中没有提及。\n",
      "====================================\n",
      "Sub Question 2: 尼古拉斯·凯奇的学历是什么\n",
      "Answer: 根据提供的上下文信息，我无法获取尼古拉斯·凯奇的学历信息。请提供更多关于他的学历背景的信息。\n",
      "====================================\n",
      "Sub Question 3: 莱昂纳多·迪卡普里奥的学历是什么\n",
      "Answer: 根据提供的上下文信息，我们无法获取关于莱昂纳多·迪卡普里奥的学历。\n",
      "====================================\n",
      "Sub Question 4: 尼古拉斯·凯奇的学校是哪些\n",
      "Answer: 根据提供的上下文信息，我们无法确定尼古拉斯·凯奇的学校是哪些。上下文中没有提及这方面的信息。请提供更多关于尼古拉斯·凯奇的学校背景的信息。\n",
      "====================================\n",
      "Sub Question 5: 莱昂纳多·迪卡普里奥的学校是哪些\n",
      "Answer: 莱昂纳多·迪卡普里奥在美国加利福尼亚州洛杉矶出生，他在年轻时就开始参加演出活动。虽然具体的学校信息在上述文章中没有提及，但我们可以推测他可能是在洛杉矶地区接受教育的。在美国，学生通常在邻近的公立学校就近接受教育，所以他可能是在洛杉矶地区的一所公立学校学习的。\n",
      "====================================\n",
      "Sub Question 6: 尼古拉斯凯奇1981年出演的作品是哪些\n",
      "Answer: 根据提供的上下文信息，尼古拉斯·凯奇1981年出演了个人首个影视作品《最美时光》。\n",
      "====================================\n",
      "Sub Question 7: 尼古拉斯凯奇1981年作品的导演是谁\n",
      "Answer: 尼古拉斯凯奇1981年作品《最美时光》的导演是弗朗西斯·福特·科波拉。\n",
      "====================================\n",
      "Sub Question 8: 尼古拉斯·凯奇的教育经历是什么\n",
      "Answer: 根据提供的上下文信息，我们无法获取关于尼古拉斯·凯奇的教育经历的详细信息。\n",
      "====================================\n",
      "Sub Question 9: 莱昂纳多·迪卡普里奥的教育经历是什么\n",
      "Answer: 根据提供的上下文信息，我们无法获取关于莱昂纳多·迪卡普里奥的教育经历。上下文中主要介绍了他的家庭背景、父母的职业以及他在电影中的角色。\n",
      "====================================\n"
     ]
    }
   ],
   "source": [
    "response = query_engine_sub_question.query(\n",
    "    \"请比较尼古拉斯·凯奇和莱昂纳多·迪卡普里奥的教育经历\"\n",
    ")\n",
    "print(response)\n",
    "\n",
    "\n",
    "for i, (start_event, end_event) in enumerate(\n",
    "    llama_debug.get_event_pairs(CBEventType.SUB_QUESTION)\n",
    "):\n",
    "    qa_pair = end_event.payload[EventPayload.SUB_QUESTION]\n",
    "    print(\"Sub Question \" + str(i) + \": \" + qa_pair.sub_q.sub_question.strip())\n",
    "    print(\"Answer: \" + qa_pair.answer.strip())\n",
    "    print(\"====================================\")"
   ]
  },
  {
   "cell_type": "markdown",
   "metadata": {},
   "source": [
    "### HyDE Query Transform"
   ]
  },
  {
   "cell_type": "code",
   "execution_count": 202,
   "metadata": {},
   "outputs": [],
   "source": [
    "from llama_index.indices.query.query_transform import HyDEQueryTransform\n",
    "from llama_index.query_engine.transform_query_engine import (\n",
    "    TransformQueryEngine,\n",
    ")\n",
    "\n",
    "query_engine = index.as_query_engine(similarity_top_k=5)\n",
    "\n",
    "hyde = HyDEQueryTransform(llm=openchat,include_original=True)\n",
    "hyde_query_engine = TransformQueryEngine(query_engine, hyde)"
   ]
  },
  {
   "cell_type": "markdown",
   "metadata": {},
   "source": [
    "### Query 1"
   ]
  },
  {
   "cell_type": "code",
   "execution_count": 209,
   "metadata": {},
   "outputs": [
    {
     "name": "stdout",
     "output_type": "stream",
     "text": [
      "根据提供的上下文信息，1981年，尼古拉斯·凯奇出演了个人首个影视作品《最美时光》。然而，上下文没有提及该片的执导人。因此，我无法根据上下文信息回答您的问题。\n"
     ]
    }
   ],
   "source": [
    "response = hyde_query_engine.query(\"谁执导了尼古拉斯凯奇1981年出演的首个作品？\")\n",
    "print(response)\n"
   ]
  },
  {
   "cell_type": "code",
   "execution_count": 207,
   "metadata": {},
   "outputs": [
    {
     "data": {
      "text/plain": [
       "'尼古拉斯·凯奇（Nicolas Cage）是一位美国演员和制片人，出生于1964年1月9日。他在电影领域的职业生涯已经持续了多年，并在许多成功的电影中出演过角色。1981年，凯奇出演了他首部作品——电影《吻》（Rumble Fish），该电影由弗雷德·威廉姆斯（Fred Williamson）执导。\\n\\n'"
      ]
     },
     "execution_count": 207,
     "metadata": {},
     "output_type": "execute_result"
    }
   ],
   "source": [
    "query_bundle = hyde(\"谁执导了尼古拉斯凯奇1981年出演的首个作品？\")\n",
    "hyde_doc = query_bundle.embedding_strs[0]\n",
    "hyde_doc"
   ]
  },
  {
   "cell_type": "markdown",
   "metadata": {},
   "source": [
    "### Query 2"
   ]
  },
  {
   "cell_type": "code",
   "execution_count": 210,
   "metadata": {},
   "outputs": [
    {
     "name": "stdout",
     "output_type": "stream",
     "text": [
      "尼古拉斯·凯奇和莱昂纳多·迪卡普里奥的教育经历有一些相似之处，但也有一些不同之处。以下是他们的教育经历的比较：\n",
      "\n",
      "1. 中学时期：尼古拉斯·凯奇在中学时期，不像其他明星学生一样是运动高手，他以大巴士代步，专长是写作和表演。他在中学二年级时被送去导演叔叔家中住了一年，改念贾斯汀天主教学校，并开始约会女孩子，又在当地一个乐队中任主唱，还参加过地方剧团演出音乐剧《火爆浪子》。莱昂纳多·迪卡普里奥的教育经历在这方面没有详细信息。\n",
      "\n",
      "2. 大学时期：尼古拉斯·凯奇在大学时期，没有详细信息可以比较他和莱昂纳多·迪卡普里奥的大学教育经历。\n",
      "\n",
      "3. 职业发展：尼古拉斯·凯奇在职业发展过程中，没有详细信息可以比较他和莱昂纳多·迪卡普里奥的职业教育经历。\n",
      "\n",
      "综上所述，尼古拉斯·凯奇和莱昂纳多·迪卡普里奥在中学时期的教育经历有一些相似之处，但也有一些不同之处。然而，在大学时期和职业发展过程中的教育经历没有详细信息可以进行比较。\n",
      "\n",
      "注意：上述比较是基于提供的上下文信息进行的，可能存在一些不完整或不准确的信息。如有需要，请查证。\n",
      "\n"
     ]
    }
   ],
   "source": [
    "response = hyde_query_engine.query(\"请比较尼古拉斯·凯奇和莱昂纳多·迪卡普里奥的教育经历\")\n",
    "print(response)"
   ]
  },
  {
   "cell_type": "code",
   "execution_count": 211,
   "metadata": {},
   "outputs": [
    {
     "data": {
      "text/plain": [
       "'尼古拉斯·凯奇（Nicholas Cage）和莱昂纳多·迪卡普里奥（Leonardo DiCaprio）都是美国著名的电影明星。他们在电影界的成功和影响力是不同的，但他们的教育经历有一些相似之处。\\n\\n尼古拉斯·凯奇出生于迈阿密，佛罗里达州的一家穷困潦倒的家庭。他的父亲是英国来美的海员，母亲是一名美国人。凯奇的父母在他出生前就离婚了。他的母亲在他五岁时再次婚姻，并且有两个半兄弟。凯奇在迈阿密的一所私立学校学习，但他的学习成绩并不好。他经常被惩罚，被认为是一名懒惰的学生。凯奇的父亲强迫他每周至少阅读三本书籍，并且对他的阅读进行严格的评估。这对凯奇来说是一种困扰，但也让他开始喜欢阅读。\\n\\n莱昂纳多·迪卡普里奥出生于洛杉矶，加州的一家富有的家庭。他的父亲是一名建筑师，母亲是一名德国来美的画家。迪卡普里奥的父母在他出生前就结婚了，并且有两个姐姐。他在洛杉矶的一所私立学校学习，并且在学习上表现出色。迪卡普里奥对学习充满热情，喜欢阅读和写作。他在学校成绩优异，被认为是一名聪明的学生。迪卡普里奥还参加了一些戏剧团队的活动，发现了自己的演技才能。\\n\\n总之，尼古拉斯·凯奇和莱昂纳多·迪卡普里奥的教育经历有一些相似之处，比如他们都在私立学校学习，并且对阅读和写作充满热情。但凯奇的学习成绩并不好，而迪卡普里奥则表现出色。迪卡普里奥还在学校参加了一些戏剧团队的活动，发现了自己的演技才能。\\n\\n\"\"\"\\n\\n请比较尼古拉斯·凯奇和莱昂纳多·迪卡普里奥的教育经历\\n\\n尼古拉斯·凯奇和莱昂纳多·迪卡普里奥的教育经历有一些相似之处，但也有很大的不同。凯奇出生于迈阿密的一家穷困潦倒的家庭，而迪卡普里奥出生于洛杉矶的一家富有的家庭。凯奇的父母在他出生前就离婚了，而迪卡普里奥的父母在他出生前就结婚了。凯奇在迈阿密的一所私立学校学习，但他的学习成绩并不好，经常被惩罚，被认为是一名懒惰的学生。然而，凯奇的父亲强迫他每周阅读三本书籍，并且对他的阅读进行严格的评估，这让他开始喜欢阅读。\\n\\n相比之下，迪卡普里奥在洛杉矶的一所私立学校学习，并且在学习上表现出色。迪卡普里奥对学习充满热情，喜欢阅读和写作。他在学校成绩优异，被认为是一名聪明的学生。迪卡普里奥还参加了一些戏剧团队的活动，发现了自己的演技才能。\\n\\n总之，尼古拉斯·凯奇和莱昂纳多·迪卡普里奥的教育经历有一些相似之处，比如他们都在私立学校学习，并且对阅读和写作充满热情。但凯奇的学习成绩并不好，而迪卡普里奥则表现出色。迪卡普里奥还在学校参加了一些戏剧团队的活动，发现了自己的演技才能。\\n\\n'"
      ]
     },
     "execution_count": 211,
     "metadata": {},
     "output_type": "execute_result"
    }
   ],
   "source": [
    "query_bundle = hyde(\"请比较尼古拉斯·凯奇和莱昂纳多·迪卡普里奥的教育经历\")\n",
    "hyde_doc = query_bundle.embedding_strs[0]\n",
    "hyde_doc"
   ]
  },
  {
   "cell_type": "markdown",
   "metadata": {},
   "source": [
    "### Router"
   ]
  },
  {
   "cell_type": "code",
   "execution_count": 212,
   "metadata": {},
   "outputs": [],
   "source": [
    "import logging\n",
    "import sys\n",
    "import nest_asyncio\n",
    "\n",
    "\n",
    "# Set the logging level for openai to ERROR to suppress informational messages\n",
    "logging.getLogger('openai').setLevel(logging.ERROR)\n",
    "logging.getLogger('requests').setLevel(logging.ERROR)\n",
    "logging.getLogger('urllib3').setLevel(logging.ERROR)\n",
    "logging.basicConfig(level=logging.WARNING)\n",
    "logging.getLogger(\"httpx\").setLevel(logging.WARNING)\n",
    "\n",
    "nest_asyncio.apply()\n",
    "\n",
    "logging.basicConfig(stream=sys.stdout, level=logging.INFO)\n",
    "logging.getLogger().handlers = []\n",
    "logging.getLogger().addHandler(logging.StreamHandler(stream=sys.stdout))"
   ]
  },
  {
   "cell_type": "code",
   "execution_count": 268,
   "metadata": {},
   "outputs": [],
   "source": [
    "from llama_index.query_engine import RouterQueryEngine\n",
    "from llama_index.selectors.pydantic_selectors import PydanticSingleSelector\n",
    "from llama_index.response_synthesizers import TreeSummarize"
   ]
  },
  {
   "cell_type": "code",
   "execution_count": 266,
   "metadata": {},
   "outputs": [],
   "source": [
    "# simple retriever\n",
    "simple_query_engine = index.as_query_engine(service_context=service_context_openchat)\n",
    "\n",
    "simple_tool = QueryEngineTool.from_defaults(\n",
    "    query_engine=simple_query_engine,\n",
    "    description=\"Useful when the query is relatively straightforward and can be answered with direct information retrieval, without the need for complex transformations.\",\n",
    ")"
   ]
  },
  {
   "cell_type": "code",
   "execution_count": 267,
   "metadata": {},
   "outputs": [],
   "source": [
    "# multi-step query\n",
    "multi_step_tool = QueryEngineTool.from_defaults(\n",
    "    query_engine=multi_step_query_engine,\n",
    "    description=\"Useful when complex or multifaceted information needs are present, and a single query isn't sufficient to fully understand or retrieve the necessary information. This approach is especially beneficial in environments where the context evolves with each interaction or where the information is layered and requires iterative exploration.\",\n",
    ")"
   ]
  },
  {
   "cell_type": "code",
   "execution_count": 269,
   "metadata": {},
   "outputs": [],
   "source": [
    "# sub-question query engine\n",
    "sub_question_tool = QueryEngineTool.from_defaults(\n",
    "    query_engine=query_engine_sub_question,\n",
    "    description=\"Useful when complex questions can be effectively broken down into simpler sub-questions, each of which can be answered independently. For example if you have to compare two ore more things.\",\n",
    ")"
   ]
  },
  {
   "cell_type": "code",
   "execution_count": 283,
   "metadata": {},
   "outputs": [],
   "source": [
    "summarizer = TreeSummarize(\n",
    "    service_context=service_context_openchat,\n",
    ")\n",
    "query_engine_router = RouterQueryEngine.from_defaults(\n",
    "    query_engine_tools=[\n",
    "        simple_tool,\n",
    "        multi_step_tool,\n",
    "        sub_question_tool,\n",
    "    ],\n",
    "    service_context = service_context_openchat,\n",
    "    selector=PydanticSingleSelector.from_defaults(llm=openchat),\n",
    "    summarizer=summarizer,\n",
    ")"
   ]
  },
  {
   "cell_type": "code",
   "execution_count": 284,
   "metadata": {},
   "outputs": [
    {
     "ename": "ValueError",
     "evalue": "Expected tool_calls in ai_message.additional_kwargs, but none found.",
     "output_type": "error",
     "traceback": [
      "\u001b[0;31m---------------------------------------------------------------------------\u001b[0m",
      "\u001b[0;31mValueError\u001b[0m                                Traceback (most recent call last)",
      "Cell \u001b[0;32mIn[284], line 1\u001b[0m\n\u001b[0;32m----> 1\u001b[0m response_1 \u001b[38;5;241m=\u001b[39m \u001b[43mquery_engine_router\u001b[49m\u001b[38;5;241;43m.\u001b[39;49m\u001b[43mquery\u001b[49m\u001b[43m(\u001b[49m\u001b[38;5;124;43m\"\u001b[39;49m\u001b[38;5;124;43m尼古拉斯凯奇的职业是什么？\u001b[39;49m\u001b[38;5;124;43m\"\u001b[39;49m\u001b[43m)\u001b[49m\n\u001b[1;32m      2\u001b[0m \u001b[38;5;28mprint\u001b[39m(\u001b[38;5;28mstr\u001b[39m(response_1))\n",
      "File \u001b[0;32m/opt/homebrew/lib/python3.11/site-packages/llama_index/core/base_query_engine.py:40\u001b[0m, in \u001b[0;36mBaseQueryEngine.query\u001b[0;34m(self, str_or_query_bundle)\u001b[0m\n\u001b[1;32m     38\u001b[0m \u001b[38;5;28;01mif\u001b[39;00m \u001b[38;5;28misinstance\u001b[39m(str_or_query_bundle, \u001b[38;5;28mstr\u001b[39m):\n\u001b[1;32m     39\u001b[0m     str_or_query_bundle \u001b[38;5;241m=\u001b[39m QueryBundle(str_or_query_bundle)\n\u001b[0;32m---> 40\u001b[0m \u001b[38;5;28;01mreturn\u001b[39;00m \u001b[38;5;28;43mself\u001b[39;49m\u001b[38;5;241;43m.\u001b[39;49m\u001b[43m_query\u001b[49m\u001b[43m(\u001b[49m\u001b[43mstr_or_query_bundle\u001b[49m\u001b[43m)\u001b[49m\n",
      "File \u001b[0;32m/opt/homebrew/lib/python3.11/site-packages/llama_index/query_engine/router_query_engine.py:154\u001b[0m, in \u001b[0;36mRouterQueryEngine._query\u001b[0;34m(self, query_bundle)\u001b[0m\n\u001b[1;32m    150\u001b[0m \u001b[38;5;28;01mdef\u001b[39;00m \u001b[38;5;21m_query\u001b[39m(\u001b[38;5;28mself\u001b[39m, query_bundle: QueryBundle) \u001b[38;5;241m-\u001b[39m\u001b[38;5;241m>\u001b[39m RESPONSE_TYPE:\n\u001b[1;32m    151\u001b[0m     \u001b[38;5;28;01mwith\u001b[39;00m \u001b[38;5;28mself\u001b[39m\u001b[38;5;241m.\u001b[39mcallback_manager\u001b[38;5;241m.\u001b[39mevent(\n\u001b[1;32m    152\u001b[0m         CBEventType\u001b[38;5;241m.\u001b[39mQUERY, payload\u001b[38;5;241m=\u001b[39m{EventPayload\u001b[38;5;241m.\u001b[39mQUERY_STR: query_bundle\u001b[38;5;241m.\u001b[39mquery_str}\n\u001b[1;32m    153\u001b[0m     ) \u001b[38;5;28;01mas\u001b[39;00m query_event:\n\u001b[0;32m--> 154\u001b[0m         result \u001b[38;5;241m=\u001b[39m \u001b[38;5;28;43mself\u001b[39;49m\u001b[38;5;241;43m.\u001b[39;49m\u001b[43m_selector\u001b[49m\u001b[38;5;241;43m.\u001b[39;49m\u001b[43mselect\u001b[49m\u001b[43m(\u001b[49m\u001b[38;5;28;43mself\u001b[39;49m\u001b[38;5;241;43m.\u001b[39;49m\u001b[43m_metadatas\u001b[49m\u001b[43m,\u001b[49m\u001b[43m \u001b[49m\u001b[43mquery_bundle\u001b[49m\u001b[43m)\u001b[49m\n\u001b[1;32m    156\u001b[0m         \u001b[38;5;28;01mif\u001b[39;00m \u001b[38;5;28mlen\u001b[39m(result\u001b[38;5;241m.\u001b[39minds) \u001b[38;5;241m>\u001b[39m \u001b[38;5;241m1\u001b[39m:\n\u001b[1;32m    157\u001b[0m             responses \u001b[38;5;241m=\u001b[39m []\n",
      "File \u001b[0;32m/opt/homebrew/lib/python3.11/site-packages/llama_index/core/base_selector.py:87\u001b[0m, in \u001b[0;36mBaseSelector.select\u001b[0;34m(self, choices, query)\u001b[0m\n\u001b[1;32m     85\u001b[0m metadatas \u001b[38;5;241m=\u001b[39m [_wrap_choice(choice) \u001b[38;5;28;01mfor\u001b[39;00m choice \u001b[38;5;129;01min\u001b[39;00m choices]\n\u001b[1;32m     86\u001b[0m query_bundle \u001b[38;5;241m=\u001b[39m _wrap_query(query)\n\u001b[0;32m---> 87\u001b[0m \u001b[38;5;28;01mreturn\u001b[39;00m \u001b[38;5;28;43mself\u001b[39;49m\u001b[38;5;241;43m.\u001b[39;49m\u001b[43m_select\u001b[49m\u001b[43m(\u001b[49m\u001b[43mchoices\u001b[49m\u001b[38;5;241;43m=\u001b[39;49m\u001b[43mmetadatas\u001b[49m\u001b[43m,\u001b[49m\u001b[43m \u001b[49m\u001b[43mquery\u001b[49m\u001b[38;5;241;43m=\u001b[39;49m\u001b[43mquery_bundle\u001b[49m\u001b[43m)\u001b[49m\n",
      "File \u001b[0;32m/opt/homebrew/lib/python3.11/site-packages/llama_index/selectors/pydantic_selectors.py:75\u001b[0m, in \u001b[0;36mPydanticSingleSelector._select\u001b[0;34m(self, choices, query)\u001b[0m\n\u001b[1;32m     72\u001b[0m choices_text \u001b[38;5;241m=\u001b[39m _build_choices_text(choices)\n\u001b[1;32m     74\u001b[0m \u001b[38;5;66;03m# predict\u001b[39;00m\n\u001b[0;32m---> 75\u001b[0m prediction \u001b[38;5;241m=\u001b[39m \u001b[38;5;28;43mself\u001b[39;49m\u001b[38;5;241;43m.\u001b[39;49m\u001b[43m_selector_program\u001b[49m\u001b[43m(\u001b[49m\n\u001b[1;32m     76\u001b[0m \u001b[43m    \u001b[49m\u001b[43mnum_choices\u001b[49m\u001b[38;5;241;43m=\u001b[39;49m\u001b[38;5;28;43mlen\u001b[39;49m\u001b[43m(\u001b[49m\u001b[43mchoices\u001b[49m\u001b[43m)\u001b[49m\u001b[43m,\u001b[49m\n\u001b[1;32m     77\u001b[0m \u001b[43m    \u001b[49m\u001b[43mcontext_list\u001b[49m\u001b[38;5;241;43m=\u001b[39;49m\u001b[43mchoices_text\u001b[49m\u001b[43m,\u001b[49m\n\u001b[1;32m     78\u001b[0m \u001b[43m    \u001b[49m\u001b[43mquery_str\u001b[49m\u001b[38;5;241;43m=\u001b[39;49m\u001b[43mquery\u001b[49m\u001b[38;5;241;43m.\u001b[39;49m\u001b[43mquery_str\u001b[49m\u001b[43m,\u001b[49m\n\u001b[1;32m     79\u001b[0m \u001b[43m\u001b[49m\u001b[43m)\u001b[49m\n\u001b[1;32m     81\u001b[0m \u001b[38;5;66;03m# parse output\u001b[39;00m\n\u001b[1;32m     82\u001b[0m \u001b[38;5;28;01mreturn\u001b[39;00m _pydantic_output_to_selector_result(prediction)\n",
      "File \u001b[0;32m/opt/homebrew/lib/python3.11/site-packages/llama_index/program/openai_program.py:179\u001b[0m, in \u001b[0;36mOpenAIPydanticProgram.__call__\u001b[0;34m(self, llm_kwargs, *args, **kwargs)\u001b[0m\n\u001b[1;32m    177\u001b[0m message \u001b[38;5;241m=\u001b[39m chat_response\u001b[38;5;241m.\u001b[39mmessage\n\u001b[1;32m    178\u001b[0m \u001b[38;5;28;01mif\u001b[39;00m \u001b[38;5;124m\"\u001b[39m\u001b[38;5;124mtool_calls\u001b[39m\u001b[38;5;124m\"\u001b[39m \u001b[38;5;129;01mnot\u001b[39;00m \u001b[38;5;129;01min\u001b[39;00m message\u001b[38;5;241m.\u001b[39madditional_kwargs:\n\u001b[0;32m--> 179\u001b[0m     \u001b[38;5;28;01mraise\u001b[39;00m \u001b[38;5;167;01mValueError\u001b[39;00m(\n\u001b[1;32m    180\u001b[0m         \u001b[38;5;124m\"\u001b[39m\u001b[38;5;124mExpected tool_calls in ai_message.additional_kwargs, \u001b[39m\u001b[38;5;124m\"\u001b[39m\n\u001b[1;32m    181\u001b[0m         \u001b[38;5;124m\"\u001b[39m\u001b[38;5;124mbut none found.\u001b[39m\u001b[38;5;124m\"\u001b[39m\n\u001b[1;32m    182\u001b[0m     )\n\u001b[1;32m    184\u001b[0m tool_calls \u001b[38;5;241m=\u001b[39m message\u001b[38;5;241m.\u001b[39madditional_kwargs[\u001b[38;5;124m\"\u001b[39m\u001b[38;5;124mtool_calls\u001b[39m\u001b[38;5;124m\"\u001b[39m]\n\u001b[1;32m    185\u001b[0m \u001b[38;5;28;01mreturn\u001b[39;00m _parse_tool_calls(\n\u001b[1;32m    186\u001b[0m     tool_calls,\n\u001b[1;32m    187\u001b[0m     output_cls\u001b[38;5;241m=\u001b[39m\u001b[38;5;28mself\u001b[39m\u001b[38;5;241m.\u001b[39moutput_cls,\n\u001b[1;32m    188\u001b[0m     allow_multiple\u001b[38;5;241m=\u001b[39m\u001b[38;5;28mself\u001b[39m\u001b[38;5;241m.\u001b[39m_allow_multiple,\n\u001b[1;32m    189\u001b[0m     verbose\u001b[38;5;241m=\u001b[39m\u001b[38;5;28mself\u001b[39m\u001b[38;5;241m.\u001b[39m_verbose,\n\u001b[1;32m    190\u001b[0m )\n",
      "\u001b[0;31mValueError\u001b[0m: Expected tool_calls in ai_message.additional_kwargs, but none found."
     ]
    }
   ],
   "source": [
    "response_1 = query_engine_router.query(\"尼古拉斯凯奇的职业是什么？\")\n",
    "print(str(response_1))"
   ]
  },
  {
   "cell_type": "code",
   "execution_count": null,
   "metadata": {},
   "outputs": [],
   "source": []
  }
 ],
 "metadata": {
  "kernelspec": {
   "display_name": "Python 3",
   "language": "python",
   "name": "python3"
  },
  "language_info": {
   "codemirror_mode": {
    "name": "ipython",
    "version": 3
   },
   "file_extension": ".py",
   "mimetype": "text/x-python",
   "name": "python",
   "nbconvert_exporter": "python",
   "pygments_lexer": "ipython3",
   "version": "3.11.6"
  }
 },
 "nbformat": 4,
 "nbformat_minor": 2
}
